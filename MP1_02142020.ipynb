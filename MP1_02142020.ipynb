{
  "nbformat": 4,
  "nbformat_minor": 0,
  "metadata": {
    "kernelspec": {
      "display_name": "Python 3",
      "language": "python",
      "name": "python3"
    },
    "language_info": {
      "codemirror_mode": {
        "name": "ipython",
        "version": 3
      },
      "file_extension": ".py",
      "mimetype": "text/x-python",
      "name": "python",
      "nbconvert_exporter": "python",
      "pygments_lexer": "ipython3",
      "version": "3.7.3"
    },
    "colab": {
      "name": "MP1_02142020.ipynb",
      "provenance": [],
      "collapsed_sections": [],
      "include_colab_link": true
    }
  },
  "cells": [
    {
      "cell_type": "markdown",
      "metadata": {
        "id": "view-in-github",
        "colab_type": "text"
      },
      "source": [
        "<a href=\"https://colab.research.google.com/github/anirudh217sharma/fall2019/blob/master/MP1_02142020.ipynb\" target=\"_parent\"><img src=\"https://colab.research.google.com/assets/colab-badge.svg\" alt=\"Open In Colab\"/></a>"
      ]
    },
    {
      "cell_type": "markdown",
      "metadata": {
        "id": "hvrJKRwceABY",
        "colab_type": "text"
      },
      "source": [
        "# Mini Project 1 - CS498 Data Science and Analytics"
      ]
    },
    {
      "cell_type": "markdown",
      "metadata": {
        "id": "IIom3PCteABc",
        "colab_type": "text"
      },
      "source": [
        "<b>Group Members: Aniruddha Sharma (ashar29),  Anunay Sharma (anunays2), Badrinarayanan Rajasekaran (br17)</b>"
      ]
    },
    {
      "cell_type": "code",
      "metadata": {
        "id": "kz42E4pT2LDl",
        "colab_type": "code",
        "colab": {}
      },
      "source": [
        "#If you need to change the directory, then we use the os package\n",
        "import os \n",
        "os.chdir ('C:\\\\Users\\\\Anunay\\\\Documents\\\\CS 498\\\\MP\\\\MP1\\\\')"
      ],
      "execution_count": 0,
      "outputs": []
    },
    {
      "cell_type": "code",
      "metadata": {
        "id": "SpQTPIyx3Tvj",
        "colab_type": "code",
        "colab": {}
      },
      "source": [
        "#Import all the necessary packages for this analysis\n",
        "\n",
        "import pandas as pd\n",
        "import os\n",
        "import numpy as np\n",
        "import matplotlib.pyplot as plt\n",
        "import datetime\n",
        "from scipy import stats\n",
        "import seaborn as sns\n",
        "%matplotlib inline"
      ],
      "execution_count": 0,
      "outputs": []
    },
    {
      "cell_type": "code",
      "metadata": {
        "id": "GxLX8NK35qh9",
        "colab_type": "code",
        "outputId": "c029a509-a707-4d32-91b2-98aa0c263b51",
        "colab": {
          "resources": {
            "http://localhost:8080/nbextensions/google.colab/files.js": {
              "data": "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",
              "ok": true,
              "headers": [
                [
                  "content-type",
                  "application/javascript"
                ]
              ],
              "status": 200,
              "status_text": ""
            }
          },
          "base_uri": "https://localhost:8080/",
          "height": 74
        }
      },
      "source": [
        "# Upload data file from your local drive\n",
        "\n",
        "from google.colab import files\n",
        "\n",
        "uploaded = files.upload()"
      ],
      "execution_count": 0,
      "outputs": [
        {
          "output_type": "display_data",
          "data": {
            "text/html": [
              "\n",
              "     <input type=\"file\" id=\"files-f44bf541-7cfb-40e8-a6a2-f83fb28a49d2\" name=\"files[]\" multiple disabled />\n",
              "     <output id=\"result-f44bf541-7cfb-40e8-a6a2-f83fb28a49d2\">\n",
              "      Upload widget is only available when the cell has been executed in the\n",
              "      current browser session. Please rerun this cell to enable.\n",
              "      </output>\n",
              "      <script src=\"/nbextensions/google.colab/files.js\"></script> "
            ],
            "text/plain": [
              "<IPython.core.display.HTML object>"
            ]
          },
          "metadata": {
            "tags": []
          }
        },
        {
          "output_type": "stream",
          "text": [
            "Saving mp1_av_disengagements.csv to mp1_av_disengagements (1).csv\n"
          ],
          "name": "stdout"
        }
      ]
    },
    {
      "cell_type": "code",
      "metadata": {
        "id": "cyXkBvAR3Xvm",
        "colab_type": "code",
        "outputId": "83ade281-b48c-49a5-ba4b-63fd5299e0ce",
        "colab": {
          "base_uri": "https://localhost:8080/",
          "height": 204
        }
      },
      "source": [
        "df_diseng = pd.read_csv(\"mp1_av_disengagements.csv\") #pd.read_csv to import the notebook\n",
        "df_diseng.head() #Displays the top n rows of the dataset"
      ],
      "execution_count": 0,
      "outputs": [
        {
          "output_type": "execute_result",
          "data": {
            "text/html": [
              "<div>\n",
              "<style scoped>\n",
              "    .dataframe tbody tr th:only-of-type {\n",
              "        vertical-align: middle;\n",
              "    }\n",
              "\n",
              "    .dataframe tbody tr th {\n",
              "        vertical-align: top;\n",
              "    }\n",
              "\n",
              "    .dataframe thead th {\n",
              "        text-align: right;\n",
              "    }\n",
              "</style>\n",
              "<table border=\"1\" class=\"dataframe\">\n",
              "  <thead>\n",
              "    <tr style=\"text-align: right;\">\n",
              "      <th></th>\n",
              "      <th>Month</th>\n",
              "      <th>Car</th>\n",
              "      <th>Location</th>\n",
              "      <th>Weather</th>\n",
              "      <th>TypeOfTrigger</th>\n",
              "      <th>ReactionTime</th>\n",
              "      <th>Cause</th>\n",
              "    </tr>\n",
              "  </thead>\n",
              "  <tbody>\n",
              "    <tr>\n",
              "      <th>0</th>\n",
              "      <td>14-Sep</td>\n",
              "      <td>WDD2221851A001072</td>\n",
              "      <td>urban-street</td>\n",
              "      <td>cloudy</td>\n",
              "      <td>automatic</td>\n",
              "      <td>0.58</td>\n",
              "      <td>Incorrect Traffic Light Detection</td>\n",
              "    </tr>\n",
              "    <tr>\n",
              "      <th>1</th>\n",
              "      <td>14-Sep</td>\n",
              "      <td>WDD2221851A001072</td>\n",
              "      <td>urban-street</td>\n",
              "      <td>cloudy</td>\n",
              "      <td>automatic</td>\n",
              "      <td>0.66</td>\n",
              "      <td>Adverse road surface conditions</td>\n",
              "    </tr>\n",
              "    <tr>\n",
              "      <th>2</th>\n",
              "      <td>14-Sep</td>\n",
              "      <td>WDD2221851A001072</td>\n",
              "      <td>urban-street</td>\n",
              "      <td>cloudy</td>\n",
              "      <td>automatic</td>\n",
              "      <td>1.93</td>\n",
              "      <td>Position Estimation Failure</td>\n",
              "    </tr>\n",
              "    <tr>\n",
              "      <th>3</th>\n",
              "      <td>14-Sep</td>\n",
              "      <td>WDD2221851A001072</td>\n",
              "      <td>urban-street</td>\n",
              "      <td>cloudy</td>\n",
              "      <td>automatic</td>\n",
              "      <td>0.65</td>\n",
              "      <td>Emergency Vehicle</td>\n",
              "    </tr>\n",
              "    <tr>\n",
              "      <th>4</th>\n",
              "      <td>14-Sep</td>\n",
              "      <td>WDD2221851A001072</td>\n",
              "      <td>urban-street</td>\n",
              "      <td>cloudy</td>\n",
              "      <td>automatic</td>\n",
              "      <td>0.64</td>\n",
              "      <td>Adverse road surface conditions</td>\n",
              "    </tr>\n",
              "  </tbody>\n",
              "</table>\n",
              "</div>"
            ],
            "text/plain": [
              "    Month                Car  ... ReactionTime                              Cause\n",
              "0  14-Sep  WDD2221851A001072  ...         0.58  Incorrect Traffic Light Detection\n",
              "1  14-Sep  WDD2221851A001072  ...         0.66    Adverse road surface conditions\n",
              "2  14-Sep  WDD2221851A001072  ...         1.93        Position Estimation Failure\n",
              "3  14-Sep  WDD2221851A001072  ...         0.65                  Emergency Vehicle\n",
              "4  14-Sep  WDD2221851A001072  ...         0.64    Adverse road surface conditions\n",
              "\n",
              "[5 rows x 7 columns]"
            ]
          },
          "metadata": {
            "tags": []
          },
          "execution_count": 67
        }
      ]
    },
    {
      "cell_type": "code",
      "metadata": {
        "id": "uu1CSKML3Xsi",
        "colab_type": "code",
        "outputId": "7b272266-d6d9-498a-ca60-fd2f75fcc9d7",
        "colab": {
          "resources": {
            "http://localhost:8080/nbextensions/google.colab/files.js": {
              "data": "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",
              "ok": true,
              "headers": [
                [
                  "content-type",
                  "application/javascript"
                ]
              ],
              "status": 200,
              "status_text": ""
            }
          },
          "base_uri": "https://localhost:8080/",
          "height": 40
        }
      },
      "source": [
        "uploaded = files.upload()"
      ],
      "execution_count": 0,
      "outputs": [
        {
          "output_type": "display_data",
          "data": {
            "text/html": [
              "\n",
              "     <input type=\"file\" id=\"files-608d3ecf-3786-4589-aad4-89310f1066f3\" name=\"files[]\" multiple disabled />\n",
              "     <output id=\"result-608d3ecf-3786-4589-aad4-89310f1066f3\">\n",
              "      Upload widget is only available when the cell has been executed in the\n",
              "      current browser session. Please rerun this cell to enable.\n",
              "      </output>\n",
              "      <script src=\"/nbextensions/google.colab/files.js\"></script> "
            ],
            "text/plain": [
              "<IPython.core.display.HTML object>"
            ]
          },
          "metadata": {
            "tags": []
          }
        }
      ]
    },
    {
      "cell_type": "code",
      "metadata": {
        "id": "a2bW0yPM3Xpo",
        "colab_type": "code",
        "outputId": "00e85b81-77fa-4abd-cb1d-c432ad490e72",
        "colab": {
          "base_uri": "https://localhost:8080/",
          "height": 204
        }
      },
      "source": [
        "df_miles = pd.read_csv('mp1_av_totalmiles.csv')\n",
        "df_miles.head()"
      ],
      "execution_count": 0,
      "outputs": [
        {
          "output_type": "execute_result",
          "data": {
            "text/html": [
              "<div>\n",
              "<style scoped>\n",
              "    .dataframe tbody tr th:only-of-type {\n",
              "        vertical-align: middle;\n",
              "    }\n",
              "\n",
              "    .dataframe tbody tr th {\n",
              "        vertical-align: top;\n",
              "    }\n",
              "\n",
              "    .dataframe thead th {\n",
              "        text-align: right;\n",
              "    }\n",
              "</style>\n",
              "<table border=\"1\" class=\"dataframe\">\n",
              "  <thead>\n",
              "    <tr style=\"text-align: right;\">\n",
              "      <th></th>\n",
              "      <th>Month</th>\n",
              "      <th>Car</th>\n",
              "      <th>miles driven in autonomous mode</th>\n",
              "      <th>total number of disengagements</th>\n",
              "      <th>number of automatic disengagements</th>\n",
              "      <th>number of manual disengagements</th>\n",
              "    </tr>\n",
              "  </thead>\n",
              "  <tbody>\n",
              "    <tr>\n",
              "      <th>0</th>\n",
              "      <td>14-Sep</td>\n",
              "      <td>WDD2221851A001072</td>\n",
              "      <td>4207</td>\n",
              "      <td>44</td>\n",
              "      <td>24</td>\n",
              "      <td>20</td>\n",
              "    </tr>\n",
              "    <tr>\n",
              "      <th>1</th>\n",
              "      <td>14-Oct</td>\n",
              "      <td>WDD2221851A001072</td>\n",
              "      <td>23971</td>\n",
              "      <td>228</td>\n",
              "      <td>100</td>\n",
              "      <td>128</td>\n",
              "    </tr>\n",
              "    <tr>\n",
              "      <th>2</th>\n",
              "      <td>14-Nov</td>\n",
              "      <td>WDD2221851A001072</td>\n",
              "      <td>15837</td>\n",
              "      <td>141</td>\n",
              "      <td>66</td>\n",
              "      <td>75</td>\n",
              "    </tr>\n",
              "    <tr>\n",
              "      <th>3</th>\n",
              "      <td>14-Dec</td>\n",
              "      <td>WDD2221851A001072</td>\n",
              "      <td>9413</td>\n",
              "      <td>36</td>\n",
              "      <td>15</td>\n",
              "      <td>21</td>\n",
              "    </tr>\n",
              "    <tr>\n",
              "      <th>4</th>\n",
              "      <td>15-Jan</td>\n",
              "      <td>WDD2221851A001072</td>\n",
              "      <td>18192</td>\n",
              "      <td>48</td>\n",
              "      <td>18</td>\n",
              "      <td>30</td>\n",
              "    </tr>\n",
              "  </tbody>\n",
              "</table>\n",
              "</div>"
            ],
            "text/plain": [
              "    Month  ... number of manual disengagements\n",
              "0  14-Sep  ...                              20\n",
              "1  14-Oct  ...                             128\n",
              "2  14-Nov  ...                              75\n",
              "3  14-Dec  ...                              21\n",
              "4  15-Jan  ...                              30\n",
              "\n",
              "[5 rows x 6 columns]"
            ]
          },
          "metadata": {
            "tags": []
          },
          "execution_count": 70
        }
      ]
    },
    {
      "cell_type": "markdown",
      "metadata": {
        "id": "qVShSKBX7cjw",
        "colab_type": "text"
      },
      "source": [
        "# 2. Summarize the following information"
      ]
    },
    {
      "cell_type": "markdown",
      "metadata": {
        "id": "YgZ9hhFt7gme",
        "colab_type": "text"
      },
      "source": [
        "<b>a. Total number of AV disengagements over the entire duration of available data</b>"
      ]
    },
    {
      "cell_type": "code",
      "metadata": {
        "id": "XclVOtZQ3XiL",
        "colab_type": "code",
        "outputId": "855156c7-20ee-4b5f-9194-dab64fe16712",
        "colab": {
          "base_uri": "https://localhost:8080/",
          "height": 34
        }
      },
      "source": [
        "print(f'Total number of AV disengagements over the entire duration of available data are {df_miles[\"total number of disengagements\"].sum(axis = 0)}') "
      ],
      "execution_count": 0,
      "outputs": [
        {
          "output_type": "stream",
          "text": [
            "Total number of AV disengagements over the entire duration of available data are 1024\n"
          ],
          "name": "stdout"
        }
      ]
    },
    {
      "cell_type": "markdown",
      "metadata": {
        "id": "tWQ8pKDl7lem",
        "colab_type": "text"
      },
      "source": [
        "<b> b. Number of unique months that have recorded AV disengagements</b>"
      ]
    },
    {
      "cell_type": "code",
      "metadata": {
        "id": "TFz5ZD5o3XfG",
        "colab_type": "code",
        "outputId": "814334fd-5e6d-4644-f6de-284dabbbebca",
        "colab": {
          "base_uri": "https://localhost:8080/",
          "height": 34
        }
      },
      "source": [
        "df_diseng['month']= df_diseng['Month'].apply(lambda x:x.split('-')[1]) #Split the data so that month and the date are apart\n",
        "df_diseng['month'].nunique() #Count the unique months now\n",
        "print(f'Number of unique months that have recorded AV disengagements are {df_diseng[\"month\"].nunique()}')"
      ],
      "execution_count": 0,
      "outputs": [
        {
          "output_type": "stream",
          "text": [
            "Number of unique months that have recorded AV disengagements are 12\n"
          ],
          "name": "stdout"
        }
      ]
    },
    {
      "cell_type": "markdown",
      "metadata": {
        "id": "Oy9xYZvq8vtN",
        "colab_type": "text"
      },
      "source": [
        "<b> c. List of unique locations of AV disengagements</b>"
      ]
    },
    {
      "cell_type": "code",
      "metadata": {
        "id": "Fn2xPbqM3Xcj",
        "colab_type": "code",
        "outputId": "6bb91c67-6e7e-4bf9-dd3e-55e67ddcc1ec",
        "colab": {
          "base_uri": "https://localhost:8080/",
          "height": 34
        }
      },
      "source": [
        "print(f'There are {df_diseng[\"Location\"].nunique()} locations namely {list(df_diseng[\"Location\"].unique())[0]} and {list(df_diseng[\"Location\"].unique())[1]}')  "
      ],
      "execution_count": 0,
      "outputs": [
        {
          "output_type": "stream",
          "text": [
            "There are 2 locations namely urban-street and highway\n"
          ],
          "name": "stdout"
        }
      ]
    },
    {
      "cell_type": "markdown",
      "metadata": {
        "id": "T_mNfy4f81wM",
        "colab_type": "text"
      },
      "source": [
        "<b>d. Number of unique causes for AV disengagements</b>"
      ]
    },
    {
      "cell_type": "code",
      "metadata": {
        "id": "Q8tNCgFC3XZ1",
        "colab_type": "code",
        "outputId": "f9f3bdb2-4bea-46fb-cb87-4103be443bd5",
        "colab": {
          "base_uri": "https://localhost:8080/",
          "height": 34
        }
      },
      "source": [
        "print(f'Number of unique causes for AV disengagements are {df_diseng[\"Cause\"].nunique()}')"
      ],
      "execution_count": 0,
      "outputs": [
        {
          "output_type": "stream",
          "text": [
            "Number of unique causes for AV disengagements are 10\n"
          ],
          "name": "stdout"
        }
      ]
    },
    {
      "cell_type": "markdown",
      "metadata": {
        "id": "-M3y55eb864a",
        "colab_type": "text"
      },
      "source": [
        "<b>e) Columns with missing values in the dataset</b>"
      ]
    },
    {
      "cell_type": "markdown",
      "metadata": {
        "id": "olnhNpre8-CW",
        "colab_type": "text"
      },
      "source": [
        "Lets visualize the missing values in the datasets through a missing map"
      ]
    },
    {
      "cell_type": "markdown",
      "metadata": {
        "id": "5BEkMnWm9AQG",
        "colab_type": "text"
      },
      "source": [
        "<b>Disengagements dataset</b>"
      ]
    },
    {
      "cell_type": "code",
      "metadata": {
        "id": "TOnDAWqS3XW-",
        "colab_type": "code",
        "outputId": "31534e5e-1c9d-4025-b38c-26f654004e44",
        "colab": {
          "base_uri": "https://localhost:8080/",
          "height": 360
        }
      },
      "source": [
        "#We create a heatmap which distinguishes the columns with missing values\n",
        "sns.heatmap(df_diseng.isnull(), cbar=False)\n",
        "plt.title(\"Missing map of Disengagement data\")"
      ],
      "execution_count": 0,
      "outputs": [
        {
          "output_type": "execute_result",
          "data": {
            "text/plain": [
              "Text(0.5, 1, 'Missing map of Disengagement data')"
            ]
          },
          "metadata": {
            "tags": []
          },
          "execution_count": 75
        },
        {
          "output_type": "display_data",
          "data": {
            "image/png": "[encoded data removed]",
            "text/plain": [
              "<Figure size 432x288 with 1 Axes>"
            ]
          },
          "metadata": {
            "tags": []
          }
        }
      ]
    },
    {
      "cell_type": "markdown",
      "metadata": {
        "id": "L_b1haF29FhZ",
        "colab_type": "text"
      },
      "source": [
        "We can see above that the only column which has missing values is <b>Reaction time</b>\n",
        "Lets see how many of null values are actually there"
      ]
    },
    {
      "cell_type": "code",
      "metadata": {
        "id": "NsNPxMX73XSz",
        "colab_type": "code",
        "outputId": "9c88f6d4-bb5f-4f97-b364-3f6fb2e227b3",
        "colab": {
          "base_uri": "https://localhost:8080/",
          "height": 34
        }
      },
      "source": [
        "print(f'The number of missing values in the reaction time column are {len(df_diseng[df_diseng[\"ReactionTime\"].isnull()])}')"
      ],
      "execution_count": 0,
      "outputs": [
        {
          "output_type": "stream",
          "text": [
            "The number of missing values in the reaction time column are 532\n"
          ],
          "name": "stdout"
        }
      ]
    },
    {
      "cell_type": "markdown",
      "metadata": {
        "id": "Bo9gQloE9Kdr",
        "colab_type": "text"
      },
      "source": [
        "<b>Total miles dataset</b>"
      ]
    },
    {
      "cell_type": "code",
      "metadata": {
        "id": "5XvSxuDd3XHk",
        "colab_type": "code",
        "outputId": "1b88e976-f58f-4bab-a008-5fb043a1f084",
        "colab": {
          "base_uri": "https://localhost:8080/",
          "height": 480
        }
      },
      "source": [
        "sns.heatmap(df_miles.isnull(), cbar=False)\n",
        "plt.title(\"Missing map of Total miles data\")"
      ],
      "execution_count": 0,
      "outputs": [
        {
          "output_type": "execute_result",
          "data": {
            "text/plain": [
              "Text(0.5, 1, 'Missing map of Total miles data')"
            ]
          },
          "metadata": {
            "tags": []
          },
          "execution_count": 77
        },
        {
          "output_type": "display_data",
          "data": {
            "image/png": "[encoded data removed]",
            "text/plain": [
              "<Figure size 432x288 with 1 Axes>"
            ]
          },
          "metadata": {
            "tags": []
          }
        }
      ]
    },
    {
      "cell_type": "markdown",
      "metadata": {
        "id": "IE8ifAkI9P7L",
        "colab_type": "text"
      },
      "source": [
        "\n",
        "We can see above that there are no column which has missing values in this dataset"
      ]
    },
    {
      "cell_type": "markdown",
      "metadata": {
        "id": "MirbYlcK9TLj",
        "colab_type": "text"
      },
      "source": [
        "<b>3) Plot a pie chart for the causes of AV disengagement. Based on the pie-chart, list the top 2 leading causes of disengagement?</b>"
      ]
    },
    {
      "cell_type": "code",
      "metadata": {
        "id": "0YB6fxnM9VX5",
        "colab_type": "code",
        "outputId": "efdcd22a-3634-446c-eb44-f064763819ff",
        "colab": {
          "base_uri": "https://localhost:8080/",
          "height": 264
        }
      },
      "source": [
        "cause = df_diseng[\"Cause\"].value_counts()  #Counts the occurences of different causes of disengagement\n",
        "cause\n",
        "plt.pie(cause, labels=cause.keys(),autopct = '%0.1f%%', shadow = True,radius =1) #produces the piechart using matplotlib\n",
        "plt.title(\"Causes of AV disengagement\")\n",
        "plt.show()"
      ],
      "execution_count": 0,
      "outputs": [
        {
          "output_type": "display_data",
          "data": {
            "image/png": "[encoded data removed]",
            "text/plain": [
              "<Figure size 432x288 with 1 Axes>"
            ]
          },
          "metadata": {
            "tags": []
          }
        }
      ]
    },
    {
      "cell_type": "markdown",
      "metadata": {
        "id": "RREfthmd9Y4b",
        "colab_type": "text"
      },
      "source": [
        "From the above pie chart we can see that <b>Unwanted Driver discomfort</b> and <b>Recklessly behaving agent</b> are the two leading causes of disengagements"
      ]
    },
    {
      "cell_type": "markdown",
      "metadata": {
        "id": "i7gTE6759b82",
        "colab_type": "text"
      },
      "source": [
        "<b> 4. Visualize the trend of disengagement/mile over time with monthly granularity. \n",
        "How would you describe the trend? Are AVs maturing over time?</b>"
      ]
    },
    {
      "cell_type": "code",
      "metadata": {
        "id": "2lUTn6L89eGU",
        "colab_type": "code",
        "colab": {}
      },
      "source": [
        "df1=df_miles.groupby(['Month']).sum()[['total number of disengagements','miles driven in autonomous mode']]\n",
        "df1=df1.reset_index(0)\n",
        "df1['month']= df1['Month'].apply(lambda x:x.split('-')[1]) #Splits the column to get the month and date separately\n",
        "df1[\"month\"] = pd.to_datetime(df1.month, format='%b', errors='coerce').dt.month #Converts the column into date\n",
        "df1['year']= df1['Month'].apply(lambda x:x.split('-')[0]) #Splits the column to get the month and date separately\n",
        "\n",
        "df1['disengagement/mile']=df1['total number of disengagements']/df1['miles driven in autonomous mode']\n",
        "df1 = df1.sort_values(by=[\"year\",\"month\"],ascending=True)\n",
        "df1['date']=df1['Month'].apply(lambda x:x.split('-')[1])+\"-\"+df1['year'].astype(str)"
      ],
      "execution_count": 0,
      "outputs": []
    },
    {
      "cell_type": "code",
      "metadata": {
        "id": "NnuZx-qs9kBe",
        "colab_type": "code",
        "outputId": "96ec46d1-4372-4009-a257-2aa08c137512",
        "colab": {
          "base_uri": "https://localhost:8080/",
          "height": 295
        }
      },
      "source": [
        "#We leverage matplotlib section to plot a line to understand the trend over months\n",
        "plt.plot(df1['date'],df1['disengagement/mile'],'#8B008B',alpha=0.5,lw=1, ls='-', marker='o', markersize=8, markerfacecolor=\"yellow\",markeredgecolor='black')\n",
        "plt.xlabel('Months')\n",
        "plt.ylabel('Disengagement/Mile')\n",
        "plt.title('Disengagement/Mile Across Months')\n",
        "plt.show()\n",
        "#plt.xticks(['Jan','Feb','Mar','Apr','May','June','July','Aug','Sep','Oct','Nov','Dec'])"
      ],
      "execution_count": 0,
      "outputs": [
        {
          "output_type": "display_data",
          "data": {
            "image/png": "[encoded data removed]",
            "text/plain": [
              "<Figure size 432x288 with 1 Axes>"
            ]
          },
          "metadata": {
            "tags": []
          }
        }
      ]
    },
    {
      "cell_type": "markdown",
      "metadata": {
        "id": "SuHr_iYf9shT",
        "colab_type": "text"
      },
      "source": [
        "<b>The trend of disengagement/mile decreases over the course of time. We observe occassional peaks in disengagements but overall the trend is declining. Thus we can say that the AVs appear to have matured over time. It has the highest disengagement per mile in the month of September 2014 and lowest being November 2015</b>"
      ]
    },
    {
      "cell_type": "markdown",
      "metadata": {
        "id": "IXaTUk0P9sWI",
        "colab_type": "text"
      },
      "source": [
        "## TASK 1"
      ]
    },
    {
      "cell_type": "markdown",
      "metadata": {
        "id": "dwKmoeQD9sPu",
        "colab_type": "text"
      },
      "source": [
        "<b>1. What do the following distributions signify about samples drawn from it \n",
        "    a. Gaussian distribution \n",
        "    b. Exponential distribution \n",
        "    c. Weibull distribution</b>"
      ]
    },
    {
      "cell_type": "markdown",
      "metadata": {
        "id": "nWF5l1v69sJC",
        "colab_type": "text"
      },
      "source": [
        "<b>Regardless of the type of distribution, ths sample distribution depends on the sample size taken from the population. For instance, when we take n=10 from any of these distributions, it looks very disconnected with mean and variance being different from the original distribution. As the sample size increases, the distribution resembles close to the parent distribution and mean of the sample converges towards the mean of the entire population (Central Limit Theorem)<br>\n",
        "\n",
        "References:\n",
        "1. https://amsi.org.au/ESA_Senior_Years/SeniorTopic4/4_md/SeniorTopic4b.html#content_6\n",
        "2. https://amsi.org.au/ESA_Senior_Years/SeniorTopic4/4b/4b_2content_7.html#content_8\n",
        "</b>"
      ]
    },
    {
      "cell_type": "markdown",
      "metadata": {
        "id": "xi12swHR97V_",
        "colab_type": "text"
      },
      "source": [
        "<b>2. Distribution of Reaction Time<b>"
      ]
    },
    {
      "cell_type": "code",
      "metadata": {
        "id": "b_x7V_7m9nmS",
        "colab_type": "code",
        "outputId": "6f7067a7-e1f5-47d0-dbe0-eee73e3d5f09",
        "colab": {
          "base_uri": "https://localhost:8080/",
          "height": 316
        }
      },
      "source": [
        "sns.distplot(df_diseng['ReactionTime'].dropna(), hist = False, kde = True,rug=True,fit=stats.weibull_min,  #Displays the probability density of the distribution which can be above 1\n",
        "                 kde_kws = {'shade': True, 'linewidth': 3}) \n",
        "plt.xlabel('Reaction Time', fontsize=12)\n",
        "plt.ylabel('Probability Density', fontsize=12)\n",
        "plt.title('Distribution of Reaction Time', fontsize=14)"
      ],
      "execution_count": 0,
      "outputs": [
        {
          "output_type": "execute_result",
          "data": {
            "text/plain": [
              "Text(0.5, 1.0, 'Distribution of Reaction Time')"
            ]
          },
          "metadata": {
            "tags": []
          },
          "execution_count": 81
        },
        {
          "output_type": "display_data",
          "data": {
            "image/png": "[encoded data removed]",
            "text/plain": [
              "<Figure size 432x288 with 1 Axes>"
            ]
          },
          "metadata": {
            "tags": []
          }
        }
      ]
    },
    {
      "cell_type": "markdown",
      "metadata": {
        "id": "lWN0gJ_7-3Wb",
        "colab_type": "text"
      },
      "source": [
        "<b>Distribution of Reaction time removing the extreme values(>4) for better visualization</b>"
      ]
    },
    {
      "cell_type": "code",
      "metadata": {
        "id": "8LIAljxj_A1v",
        "colab_type": "code",
        "outputId": "78d51cf3-151b-4799-9caf-71f0dd0f7211",
        "colab": {
          "base_uri": "https://localhost:8080/",
          "height": 316
        }
      },
      "source": [
        " df_diseng2 = df_diseng[df_diseng['ReactionTime']<=4]\n",
        "\n",
        "sns.distplot(df_diseng2['ReactionTime'], hist = False, kde = True,rug=True,fit=stats.weibull_min,\n",
        "                 kde_kws = {'shade': True, 'linewidth': 3})\n",
        "plt.title('Distribution of Reaction Time ', fontsize=14)\n",
        "plt.xlabel('Reaction Time', fontsize=12)\n",
        "plt.ylabel('Probability density', fontsize=12)"
      ],
      "execution_count": 0,
      "outputs": [
        {
          "output_type": "execute_result",
          "data": {
            "text/plain": [
              "Text(0, 0.5, 'Probability density')"
            ]
          },
          "metadata": {
            "tags": []
          },
          "execution_count": 82
        },
        {
          "output_type": "display_data",
          "data": {
            "image/png": "[encoded data removed]",
            "text/plain": [
              "<Figure size 432x288 with 1 Axes>"
            ]
          },
          "metadata": {
            "tags": []
          }
        }
      ]
    },
    {
      "cell_type": "markdown",
      "metadata": {
        "id": "MU7P3REF_EC7",
        "colab_type": "text"
      },
      "source": [
        "<b>The reaction time follows a weibull distribution. The distribution signifies that most of the drivers having a reaction time of 1-2s post which there is a very less population.\n",
        "<br> \n",
        "References:<br>\n",
        "https://www.itl.nist.gov/div898/handbook/eda/section3/eda3668.htm </b>"
      ]
    },
    {
      "cell_type": "markdown",
      "metadata": {
        "id": "JiM4P_L3_QQQ",
        "colab_type": "text"
      },
      "source": [
        "<b>3a. Average Reaction for entire duration of the dataset</b>"
      ]
    },
    {
      "cell_type": "code",
      "metadata": {
        "id": "koqRWuVq_WWo",
        "colab_type": "code",
        "outputId": "4de246e2-6522-4fc4-bcdf-5b2c2647d229",
        "colab": {
          "base_uri": "https://localhost:8080/",
          "height": 142
        }
      },
      "source": [
        "df_diseng.groupby('Location').mean()"
      ],
      "execution_count": 0,
      "outputs": [
        {
          "output_type": "execute_result",
          "data": {
            "text/html": [
              "<div>\n",
              "<style scoped>\n",
              "    .dataframe tbody tr th:only-of-type {\n",
              "        vertical-align: middle;\n",
              "    }\n",
              "\n",
              "    .dataframe tbody tr th {\n",
              "        vertical-align: top;\n",
              "    }\n",
              "\n",
              "    .dataframe thead th {\n",
              "        text-align: right;\n",
              "    }\n",
              "</style>\n",
              "<table border=\"1\" class=\"dataframe\">\n",
              "  <thead>\n",
              "    <tr style=\"text-align: right;\">\n",
              "      <th></th>\n",
              "      <th>ReactionTime</th>\n",
              "    </tr>\n",
              "    <tr>\n",
              "      <th>Location</th>\n",
              "      <th></th>\n",
              "    </tr>\n",
              "  </thead>\n",
              "  <tbody>\n",
              "    <tr>\n",
              "      <th>highway</th>\n",
              "      <td>1.48000</td>\n",
              "    </tr>\n",
              "    <tr>\n",
              "      <th>urban-street</th>\n",
              "      <td>0.92865</td>\n",
              "    </tr>\n",
              "  </tbody>\n",
              "</table>\n",
              "</div>"
            ],
            "text/plain": [
              "              ReactionTime\n",
              "Location                  \n",
              "highway            1.48000\n",
              "urban-street       0.92865"
            ]
          },
          "metadata": {
            "tags": []
          },
          "execution_count": 83
        }
      ]
    },
    {
      "cell_type": "markdown",
      "metadata": {
        "id": "hI-jRB_d_P-u",
        "colab_type": "text"
      },
      "source": [
        "<b>4. Perform a hypothesis testing at a 0.05 significance level</b>"
      ]
    },
    {
      "cell_type": "markdown",
      "metadata": {
        "id": "vD83zdJt_P7U",
        "colab_type": "text"
      },
      "source": [
        "Assumptions: \n",
        "From the given question, we have the mean of both the populations (AV and Non AV cars)\n",
        "Since no additional information is given, we assume that both the population has constant variance.\n",
        "\n",
        "Null hypothesis :The average reaction time for humans in Non AV cars is same as AV cars\n",
        "\n",
        "Alternative hypothesis : The average reaction time for humans in Non AV cars is different from AV cars\n",
        "\n"
      ]
    },
    {
      "cell_type": "code",
      "metadata": {
        "id": "ZLW_iCwN_n3m",
        "colab_type": "code",
        "outputId": "995249a3-b9a0-4512-c301-199c1c914711",
        "colab": {
          "base_uri": "https://localhost:8080/",
          "height": 34
        }
      },
      "source": [
        "from scipy import stats\n",
        "###We assume both the population have constant variance\n",
        "#se - standard deviation of the population\n",
        "se = df_diseng['ReactionTime'].std() /np.sqrt(len(df_diseng['ReactionTime']))\n",
        "\n",
        "Mean_of_NON_AV=1.09\n",
        "Mean_of_AV=df_diseng['ReactionTime'].mean()\n",
        "#t=x-u/se\n",
        "ttest=(Mean_of_NON_AV-Mean_of_AV)/se  \n",
        "print(round(ttest,3))"
      ],
      "execution_count": 0,
      "outputs": [
        {
          "output_type": "stream",
          "text": [
            "3.028\n"
          ],
          "name": "stdout"
        }
      ]
    },
    {
      "cell_type": "code",
      "metadata": {
        "id": "oNsxE0J6_sBx",
        "colab_type": "code",
        "outputId": "f38408ad-6311-416d-f754-ef61b4661672",
        "colab": {
          "base_uri": "https://localhost:8080/",
          "height": 34
        }
      },
      "source": [
        "# degrees of freedom\n",
        "df = len(df_diseng['ReactionTime'])-1\n",
        "\n",
        "from scipy.stats import t\n",
        "alpha=0.05 #Significance level given in the question\n",
        "cv = t.ppf(1.0 - alpha, df)\n",
        "p = (1 - t.cdf(abs(ttest), df)) * 2\n",
        "if p<0.05:\n",
        "    print(\"We reject the Null Hypothesis : The average reaction time for humans in Non AV cars is different as AV cars\")\n",
        "else:\n",
        "    print(\"We fail  to reject the Null Hypothesis :The average reaction time for humans in Non AV cars same as AV cars\")\n"
      ],
      "execution_count": 0,
      "outputs": [
        {
          "output_type": "stream",
          "text": [
            "We reject the Null Hypothesis : The average reaction time for humans in Non AV cars is different as AV cars\n"
          ],
          "name": "stdout"
        }
      ]
    },
    {
      "cell_type": "markdown",
      "metadata": {
        "id": "pJUnhy09_Pw0",
        "colab_type": "text"
      },
      "source": [
        "<b> 5. Plot the probability distribution of disengagements/mile with monthly granularity</b>"
      ]
    },
    {
      "cell_type": "code",
      "metadata": {
        "id": "qPLfr2Q9_-CZ",
        "colab_type": "code",
        "outputId": "ee96b24f-4188-4961-8a75-fecc123f008f",
        "colab": {
          "base_uri": "https://localhost:8080/",
          "height": 316
        }
      },
      "source": [
        "sns.distplot(df1['disengagement/mile'], hist = True, kde = True, fit=stats.norm,\n",
        "                 kde_kws = {'shade': True, 'linewidth': 3})\n",
        "plt.title('Distribution of #disengagement/mile ', fontsize=14)\n",
        "plt.xlabel('#disengagement/mile', fontsize=12)\n",
        "plt.ylabel('Probability density', fontsize=12)"
      ],
      "execution_count": 0,
      "outputs": [
        {
          "output_type": "execute_result",
          "data": {
            "text/plain": [
              "Text(0, 0.5, 'Probability density')"
            ]
          },
          "metadata": {
            "tags": []
          },
          "execution_count": 86
        },
        {
          "output_type": "display_data",
          "data": {
            "image/png": "[encoded data removed]",
            "text/plain": [
              "<Figure size 432x288 with 1 Axes>"
            ]
          },
          "metadata": {
            "tags": []
          }
        }
      ]
    },
    {
      "cell_type": "markdown",
      "metadata": {
        "id": "ndXDhtYA_PtM",
        "colab_type": "text"
      },
      "source": [
        "<b>The above figure follows more or less a normal distribution (Except that it has a local peak due to data). An additional support to normality are the tails of the distribution which look symmetric unlike a skewed distribution</b>"
      ]
    },
    {
      "cell_type": "markdown",
      "metadata": {
        "id": "OWJkgyHUeABd",
        "colab_type": "text"
      },
      "source": [
        "# TASK 2 "
      ]
    },
    {
      "cell_type": "markdown",
      "metadata": {
        "id": "djU-dGHkeABe",
        "colab_type": "text"
      },
      "source": [
        " Assumptions :\n",
        "1. There can be at most one disengagement in a mile\n",
        "2. A day can be either clear or cloudy, but not both. The probability of a day being clear in California is 72% \n",
        "3. The AV is equally likely to drive on a cloudy day as on a clear day."
      ]
    },
    {
      "cell_type": "markdown",
      "metadata": {
        "id": "xkXnvBMpeABj",
        "colab_type": "text"
      },
      "source": [
        "<b>a.)<b> "
      ]
    },
    {
      "cell_type": "markdown",
      "metadata": {
        "id": "e94Aj9wzeABj",
        "colab_type": "text"
      },
      "source": [
        "The assumption on maximum number of disengagements in a mile allows us to treat the occurrence of a disengagement in a mile as a random variable with a <b>Bernoulli<b> distribution"
      ]
    },
    {
      "cell_type": "markdown",
      "metadata": {
        "id": "bEqATBZLeABk",
        "colab_type": "text"
      },
      "source": [
        "<b>b.) probability of disengagement per mile on a cloudy day.</b>                                                                                "
      ]
    },
    {
      "cell_type": "markdown",
      "metadata": {
        "id": "W3XVF88UeABl",
        "colab_type": "text"
      },
      "source": [
        "Let ,\n",
        "Based on assumption 2 we have,\n",
        "\n",
        "Probability of a day being clear in california be denoted as <b>P(Clear)=0.72</b>\n",
        "    \n",
        "Probability of a day being clear in california be denoted as <b>P(Cloudy)=0.28</b>\n",
        "    \n",
        "Probability of a disengagement/mile in california be denoted as <b>P(DM)</b>\n",
        "    \n",
        "We have to find : <b>P(DM | cloudy)</b>\n",
        "\n",
        " <b>P(DM | cloudy) = [P(cloudy | DM) * P(DM)] / P(Cloudy) - using bayes theorem</b>\n",
        " \n",
        " Calculating: P(cloudy | DM) , let it be x \n",
        "\n"
      ]
    },
    {
      "cell_type": "code",
      "metadata": {
        "id": "Pp5FcqOReABm",
        "colab_type": "code",
        "outputId": "02dc97f9-a7a2-4357-d8dc-73f28e3d9e1e",
        "colab": {
          "base_uri": "https://localhost:8080/",
          "height": 34
        }
      },
      "source": [
        "x = len(df_diseng[df_diseng['Weather']=='cloudy']) /len(df_diseng)\n",
        "print('Probability: ', x)"
      ],
      "execution_count": 0,
      "outputs": [
        {
          "output_type": "stream",
          "text": [
            "Probability:  0.8154296875\n"
          ],
          "name": "stdout"
        }
      ]
    },
    {
      "cell_type": "markdown",
      "metadata": {
        "id": "1g16G9TceABq",
        "colab_type": "text"
      },
      "source": [
        "<b>P(cloudy/DM) = 0.82 </b>"
      ]
    },
    {
      "cell_type": "markdown",
      "metadata": {
        "id": "_o8YLPsYeABr",
        "colab_type": "text"
      },
      "source": [
        "Calculating : P(DM) , let it be y"
      ]
    },
    {
      "cell_type": "code",
      "metadata": {
        "id": "JEKo_VVoeABs",
        "colab_type": "code",
        "colab": {}
      },
      "source": [
        "y=df_miles['total number of disengagements'].sum()/df_miles['miles driven in autonomous mode'].sum()"
      ],
      "execution_count": 0,
      "outputs": []
    },
    {
      "cell_type": "markdown",
      "metadata": {
        "id": "QKq5a-o8eABu",
        "colab_type": "text"
      },
      "source": [
        "Calculating : P(DM) , let it be y"
      ]
    },
    {
      "cell_type": "code",
      "metadata": {
        "id": "oVoRYconeABv",
        "colab_type": "code",
        "colab": {}
      },
      "source": [
        "y=df_miles['total number of disengagements'].sum()/df_miles['miles driven in autonomous mode'].sum()"
      ],
      "execution_count": 0,
      "outputs": []
    },
    {
      "cell_type": "markdown",
      "metadata": {
        "id": "ZfIzaJLgeABx",
        "colab_type": "text"
      },
      "source": [
        "<b> P(DM) = 0.002026803687040926 </b>"
      ]
    },
    {
      "cell_type": "markdown",
      "metadata": {
        "id": "a9xMfPvyeABy",
        "colab_type": "text"
      },
      "source": [
        "<b>P(DM | cloudy) =[ 0.8154296875 * 0.002026803687040926 ] / 0.28</b>\n",
        "\n",
        "<b>P(DM | cloudy)  = 0.005903</b>\n",
        "\n"
      ]
    },
    {
      "cell_type": "markdown",
      "metadata": {
        "id": "YG4BlzL7eABz",
        "colab_type": "text"
      },
      "source": [
        "<b>probability of disengagement per mile on a cloudy day is 0.0059<b>"
      ]
    },
    {
      "cell_type": "markdown",
      "metadata": {
        "id": "8i_dQTJgeABz",
        "colab_type": "text"
      },
      "source": [
        "<b> c.) probability of disengagement per mile on a cloudy day.</b>"
      ]
    },
    {
      "cell_type": "markdown",
      "metadata": {
        "id": "Gh6ZvbeCeAB0",
        "colab_type": "text"
      },
      "source": [
        "We have to find :<b> P(DM | clear) </b>\n",
        "\n",
        "<b>P(DM | clear) = [P(clear | DM) * P(DM)] / P(Clear)</b> - using bayes theorem\n",
        "\n",
        "Calculating: P(clear | DM) , let it be x\n",
        "\n",
        "\n"
      ]
    },
    {
      "cell_type": "code",
      "metadata": {
        "id": "MiU5ImN-eAB1",
        "colab_type": "code",
        "colab": {}
      },
      "source": [
        "x = len(df_diseng[df_diseng['Weather']=='clear']) /len(df_diseng)"
      ],
      "execution_count": 0,
      "outputs": []
    },
    {
      "cell_type": "markdown",
      "metadata": {
        "id": "zKRtHirqeAB4",
        "colab_type": "text"
      },
      "source": [
        "P(DM) will be same as part a)"
      ]
    },
    {
      "cell_type": "markdown",
      "metadata": {
        "id": "NiYDyG1reAB6",
        "colab_type": "text"
      },
      "source": [
        "<b>P(DM) = 0.002026803687040926</b>\n",
        "\n",
        "<b>P(DM | clear) =[ 0.1845703125 * 0.002026803687040926 ] / 0.72</b>\n",
        "\n",
        "<b>P(DM | clear)= 0.00052</b>\n"
      ]
    },
    {
      "cell_type": "markdown",
      "metadata": {
        "id": "x9MOs6bReAB6",
        "colab_type": "text"
      },
      "source": [
        "<b>probability of disengagement per mile on a cloudy day is 0.00052<b>\n"
      ]
    },
    {
      "cell_type": "markdown",
      "metadata": {
        "id": "BRqPs9L-eAB7",
        "colab_type": "text"
      },
      "source": [
        "<b> d.) probability of automatic disengagement per mile on a cloudy day.</b>"
      ]
    },
    {
      "cell_type": "markdown",
      "metadata": {
        "id": "6OAjKDYmeAB9",
        "colab_type": "text"
      },
      "source": [
        "<b>Probability of a automatic disengagement/mile in california be denoted as P(ADM)</b>\n",
        "\n",
        "<b> P(ADM | Cloudy) = [P(Cloudy | ADM) * P(ADM)] / P(Cloudy) </b>\n",
        "\n",
        "Calculating: P(cloudy | ADM) , let it be x\n"
      ]
    },
    {
      "cell_type": "code",
      "metadata": {
        "id": "RLkFLJD_eAB-",
        "colab_type": "code",
        "colab": {}
      },
      "source": [
        "x=len(df_diseng[(df_diseng['Weather']=='cloudy') & (df_diseng['TypeOfTrigger']=='automatic')]) / len(df_diseng[df_diseng['TypeOfTrigger']=='automatic'])"
      ],
      "execution_count": 0,
      "outputs": []
    },
    {
      "cell_type": "markdown",
      "metadata": {
        "id": "81LS_dWGeACC",
        "colab_type": "text"
      },
      "source": [
        "Calculating: P(cloudy | ADM) , let it be x"
      ]
    },
    {
      "cell_type": "markdown",
      "metadata": {
        "id": "5EbD3KsoeACD",
        "colab_type": "text"
      },
      "source": [
        "<b>P(cloudy/ADM) = 0.8052738336713996 </b>"
      ]
    },
    {
      "cell_type": "markdown",
      "metadata": {
        "id": "H5KowBSeeACE",
        "colab_type": "text"
      },
      "source": [
        "Calculating : P(ADM) , let it be y"
      ]
    },
    {
      "cell_type": "code",
      "metadata": {
        "id": "TxxNPJ4HeACF",
        "colab_type": "code",
        "colab": {}
      },
      "source": [
        "y=df_miles['number of automatic disengagements'].sum()/df_miles['miles driven in autonomous mode'].sum()"
      ],
      "execution_count": 0,
      "outputs": []
    },
    {
      "cell_type": "markdown",
      "metadata": {
        "id": "lsrM6E2beACK",
        "colab_type": "text"
      },
      "source": [
        "<b>P(ADM)= 0.0009757951344835708 </b>"
      ]
    },
    {
      "cell_type": "markdown",
      "metadata": {
        "id": "OJnh1iiueACL",
        "colab_type": "text"
      },
      "source": [
        "<b>P(ADM | cloudy) =[ 0.8052738336713996 * 0.0009757951344835708 ] / 0.28</b>"
      ]
    },
    {
      "cell_type": "markdown",
      "metadata": {
        "id": "JMAedVldeACN",
        "colab_type": "text"
      },
      "source": [
        "<b>P(ADM | cloudy) = 0.002806</b>"
      ]
    },
    {
      "cell_type": "markdown",
      "metadata": {
        "id": "ASAHcwl0eACO",
        "colab_type": "text"
      },
      "source": [
        "<b>probability of automatic disengagement per mile on a cloudy day is 0.0028<b>\n"
      ]
    },
    {
      "cell_type": "markdown",
      "metadata": {
        "id": "8fnwZIJTeACP",
        "colab_type": "text"
      },
      "source": [
        "<b>probability of automatic disengagement per mile on a clear day.</b>"
      ]
    },
    {
      "cell_type": "markdown",
      "metadata": {
        "id": "sYdUHGwmeACQ",
        "colab_type": "text"
      },
      "source": [
        "<b> P(ADM | Clear) = [P(Clear | ADM) * P(ADM)] / P(Clear) </b>"
      ]
    },
    {
      "cell_type": "markdown",
      "metadata": {
        "id": "XOENUhzOeACR",
        "colab_type": "text"
      },
      "source": [
        "Calculating: P(cloudy/ADM) , let it be x"
      ]
    },
    {
      "cell_type": "code",
      "metadata": {
        "id": "ClDkHn7MeACR",
        "colab_type": "code",
        "colab": {}
      },
      "source": [
        "x=len(df_diseng[(df_diseng['Weather']=='clear') & (df_diseng['TypeOfTrigger']=='automatic')]) / len(df_diseng[df_diseng['TypeOfTrigger']=='automatic'])"
      ],
      "execution_count": 0,
      "outputs": []
    },
    {
      "cell_type": "markdown",
      "metadata": {
        "id": "cx-QRXdGeACU",
        "colab_type": "text"
      },
      "source": [
        "<b>P(clear | ADM) = 0.1947261663286004  </b>"
      ]
    },
    {
      "cell_type": "markdown",
      "metadata": {
        "id": "LzVBW94beACV",
        "colab_type": "text"
      },
      "source": [
        "We have P(ADM) calculated above"
      ]
    },
    {
      "cell_type": "markdown",
      "metadata": {
        "id": "zUIsNVr_eACV",
        "colab_type": "text"
      },
      "source": [
        "<b>P(ADM)= 0.0009757951344835708 </b>"
      ]
    },
    {
      "cell_type": "markdown",
      "metadata": {
        "id": "fJvnGEpheACW",
        "colab_type": "text"
      },
      "source": [
        "<b> P(ADM | Clear) = [x * 0.0009757951344835708] / 0.72"
      ]
    },
    {
      "cell_type": "markdown",
      "metadata": {
        "id": "rOTEiVc2eACX",
        "colab_type": "text"
      },
      "source": [
        "<b> P(ADM | Clear) = 0.000264 </b>"
      ]
    },
    {
      "cell_type": "markdown",
      "metadata": {
        "id": "FKdrcPLUeACZ",
        "colab_type": "text"
      },
      "source": [
        "<b>e.) How likely is it that in 12000 miles, there are 150 or more disengagements under cloudy conditions? </b>"
      ]
    },
    {
      "cell_type": "markdown",
      "metadata": {
        "id": "VHtWzYN2eACa",
        "colab_type": "text"
      },
      "source": [
        "<b>The above distribution can be represented as a binomial distribution which can then be approximated to a normal distribution \n",
        "using Central Limit Theorem</b>"
      ]
    },
    {
      "cell_type": "markdown",
      "metadata": {
        "id": "aRUW1oJFeACc",
        "colab_type": "text"
      },
      "source": [
        "<b> The normal distribution will have mean = n * p  and standard deviation = sqrt(np(1-p)) , where n is the number of trials \n",
        "and p is probability of success</b>\n",
        "\n",
        "<b>Given n =12000 , p= 0.005903</b>  from the data\n",
        "        "
      ]
    },
    {
      "cell_type": "code",
      "metadata": {
        "id": "FmzWtzqgeACe",
        "colab_type": "code",
        "colab": {}
      },
      "source": [
        "import numpy as np\n",
        "import matplotlib.pyplot as plt\n",
        "from scipy.stats import norm"
      ],
      "execution_count": 0,
      "outputs": []
    },
    {
      "cell_type": "code",
      "metadata": {
        "id": "ZiYs9lzPeACg",
        "colab_type": "code",
        "outputId": "ffa0925d-c496-47d2-ff62-0ca0c6ae7746",
        "colab": {
          "base_uri": "https://localhost:8080/",
          "height": 282
        }
      },
      "source": [
        "import matplotlib.pyplot as plt\n",
        "import numpy as np\n",
        "import scipy.stats as stats\n",
        "import math\n",
        "import scipy\n",
        "\n",
        "mu = (12000*0.005903)\n",
        "variance = (12000*0.005903) * (1-0.005903)\n",
        "sigma = math.sqrt(variance)\n",
        "x = np.linspace(mu - 3*sigma, mu + 3*sigma, 100)\n",
        "plt.plot(x, stats.norm.pdf(x, mu, sigma))\n",
        "plt.show()\n",
        "\n",
        "x=150 ##given \n",
        "z = ( x - mu ) / sigma\n",
        "p_values = scipy.stats.norm.sf(abs(z))\n",
        "p_values"
      ],
      "execution_count": 0,
      "outputs": [
        {
          "output_type": "display_data",
          "data": {
            "image/png": "[encoded data removed]",
            "text/plain": [
              "<Figure size 432x288 with 1 Axes>"
            ]
          },
          "metadata": {
            "tags": []
          }
        },
        {
          "output_type": "execute_result",
          "data": {
            "text/plain": [
              "1.9776115012499175e-21"
            ]
          },
          "metadata": {
            "tags": []
          },
          "execution_count": 95
        }
      ]
    },
    {
      "cell_type": "markdown",
      "metadata": {
        "id": "QqPN_6qYeACj",
        "colab_type": "text"
      },
      "source": [
        "<b>2.) a.) </b>"
      ]
    },
    {
      "cell_type": "markdown",
      "metadata": {
        "id": "1AnSchJ7eACj",
        "colab_type": "text"
      },
      "source": [
        "<b>Normal distribution represents an approximate representation of the data in the hypotheses test </b>"
      ]
    },
    {
      "cell_type": "code",
      "metadata": {
        "id": "2HR4PXv4eACk",
        "colab_type": "code",
        "colab": {}
      },
      "source": [
        "# DO NOT EXECUTE THIS CELL IN COLAB. LET IT BE GUYS!\n",
        "# import matplotlib.pyplot as plt\n",
        "# import matplotlib.image as mpimg\n",
        "# img=mpimg.imread('Normal_dist.PNG')\n",
        "# imgplot = plt.imshow(img)"
      ],
      "execution_count": 0,
      "outputs": []
    },
    {
      "cell_type": "markdown",
      "metadata": {
        "id": "UJWoyYxxeACm",
        "colab_type": "text"
      },
      "source": [
        "The application of the normal distribution comes from assessing data points in terms of the standard deviation. We can determine how anomalous a data point is based on how many standard deviations it is from the mean. The normal distribution has the following helpful properties:\n",
        "68% of data is within ± 1 standard deviations from the mean\n",
        "95% of data is within ± 2 standard deviations from the mean\n",
        "99.7% of data is within ± 3 standard deviations from the mean\n",
        "\n",
        "Reference -https://towardsdatascience.com/statistical-significance-hypothesis-testing-the-normal-curve-and-p-values-93274fa32687"
      ]
    },
    {
      "cell_type": "markdown",
      "metadata": {
        "id": "7NMkkCuzeACm",
        "colab_type": "text"
      },
      "source": [
        "<b>b.)</b>"
      ]
    },
    {
      "cell_type": "markdown",
      "metadata": {
        "id": "oqdeHudmeACn",
        "colab_type": "text"
      },
      "source": [
        "<b>It is not necessary that rejecting the NULL hypothesis means accepting the alternate hypothesis. \n",
        "It depends on the formulation of the experiment and a relationship may exist between 2 phenonmena that is not identified\n",
        "by the experiment\n",
        "\n",
        "For example, there can be a set of hypothesis such as:\n",
        "\n",
        "H0: u1=u2\n",
        "\n",
        "HA: u1 > u2\n",
        "\n",
        "There is a solution of u1 < u2 outside the scope of this hypothesis which might be left out as a part of this experiment</b>\n"
      ]
    },
    {
      "cell_type": "code",
      "metadata": {
        "id": "R2CNs-50yUes",
        "colab_type": "code",
        "colab": {}
      },
      "source": [
        ""
      ],
      "execution_count": 0,
      "outputs": []
    },
    {
      "cell_type": "markdown",
      "metadata": {
        "id": "VxQGLPo3yWUl",
        "colab_type": "text"
      },
      "source": [
        "<b> 3.) At a 0.05 significance level, test the following hypothesis: The AV has more disengagements (automatic and manual) on cloudy days than clear days. Based on the result of the hypothesis test, what can you conclude about the impact of weather conditions on AV safety? [Hint: Use a Z-test for testing this hypothesis]. </b>"
      ]
    },
    {
      "cell_type": "code",
      "metadata": {
        "id": "vur7HlFzzoY9",
        "colab_type": "code",
        "colab": {}
      },
      "source": [
        "Null Hypothesis : The AV on cloudy days has same disengagement on clear days"
      ],
      "execution_count": 0,
      "outputs": []
    },
    {
      "cell_type": "markdown",
      "metadata": {
        "id": "RilxuS8OzvQG",
        "colab_type": "text"
      },
      "source": [
        "<b> Null Hypothesis : The AV on cloudy days has same disengagement on clear days</b>"
      ]
    },
    {
      "cell_type": "markdown",
      "metadata": {
        "id": "aSE5LXmCzqy0",
        "colab_type": "text"
      },
      "source": [
        "<b> Alternative Hypothesis : The AV has more disengagement on cloudy days than clear days </b>"
      ]
    },
    {
      "cell_type": "code",
      "metadata": {
        "id": "BbvkkFOWeACo",
        "colab_type": "code",
        "outputId": "1c053633-627a-4d0c-c2dd-f672b0f3f4c8",
        "colab": {
          "base_uri": "https://localhost:8080/",
          "height": 34
        }
      },
      "source": [
        "import math as m\n",
        "\n",
        "Number_of_cloudy_disengagements=835\n",
        "Number_of_clear_disengagements=189\n",
        "\n",
        "Prob_cloudy_day=0.28\n",
        "Prob_clear_day=(1-0.28)\n",
        "\n",
        "Mean_cloudy_disengagements= 835*0.28\n",
        "std_cloudy_disengagements= m.sqrt(835*0.28*0.72)\n",
        "Mean_clear_disengagements= 189*0.72\n",
        "std_clear_disengagements= m.sqrt(835*0.72*0.28)\n",
        "\n",
        "z=(Mean_cloudy_disengagements-Mean_clear_disengagements)/m.sqrt(Mean_cloudy_disengagements**2/835+Mean_clear_disengagements**2/189)\n",
        "z"
      ],
      "execution_count": 0,
      "outputs": [
        {
          "output_type": "execute_result",
          "data": {
            "text/plain": [
              "7.6436739904912026"
            ]
          },
          "metadata": {
            "tags": []
          },
          "execution_count": 97
        }
      ]
    },
    {
      "cell_type": "code",
      "metadata": {
        "id": "SvWwdcIleACr",
        "colab_type": "code",
        "outputId": "ad8b599d-2a06-456c-9405-e31ed3a312ca",
        "colab": {
          "base_uri": "https://localhost:8080/",
          "height": 34
        }
      },
      "source": [
        "from scipy.stats import t\n",
        "df=Number_of_cloudy_disengagements+Number_of_clear_disengagements-1\n",
        "alpha=0.05#Significance level given in the question\n",
        "cv = t.ppf(1.0 - alpha, df)\n",
        "p = (1 - t.cdf(abs(z), df)) * 2\n",
        "if p<0.05:\n",
        "    print(\"We reject the Null Hypothesis : The AV on cloudy days has same disengagement on clear days\")\n",
        "else:\n",
        "    print(\"We fail  to reject the Null Hypothesis : The AV has more disengagement on cloudy days than clear days\")"
      ],
      "execution_count": 0,
      "outputs": [
        {
          "output_type": "stream",
          "text": [
            "We reject the Null Hypothesis : The AV on cloudy days has same disengagement on clear days\n"
          ],
          "name": "stdout"
        }
      ]
    },
    {
      "cell_type": "markdown",
      "metadata": {
        "id": "sD7AHYBjeACu",
        "colab_type": "text"
      },
      "source": [
        "<b>4. Conditional probability on reaction time</b>\n",
        "\n",
        "<b>Conditional Probability :  P(Dm | Cloudy)=P(Dm,Cloudy | P(C)</b>"
      ]
    },
    {
      "cell_type": "code",
      "metadata": {
        "id": "XG_JxkCAeACv",
        "colab_type": "code",
        "outputId": "47214bd5-45e9-4511-a9ca-f8b0319bb327",
        "colab": {
          "base_uri": "https://localhost:8080/",
          "height": 34
        }
      },
      "source": [
        "Prob1= len(df_diseng[(df_diseng['ReactionTime']>0.6) & (df_diseng['TypeOfTrigger']=='automatic') & (df_diseng['Weather']=='cloudy')])/len(df_diseng[(df_diseng['TypeOfTrigger']=='automatic') & (df_diseng['Weather']=='cloudy')])\n",
        "print(\"The Probability of disengagement per mile on a cloudy day is {}\".format(round(Prob1,2)))"
      ],
      "execution_count": 0,
      "outputs": [
        {
          "output_type": "stream",
          "text": [
            "The Probability of disengagement per mile on a cloudy day is 0.47\n"
          ],
          "name": "stdout"
        }
      ]
    },
    {
      "cell_type": "markdown",
      "metadata": {
        "id": "D9RekV9eeACy",
        "colab_type": "text"
      },
      "source": [
        "<b>Conditional Probability :  P(Dm | Clear)=P(Dm,Clear)/P(Clear)</b>"
      ]
    },
    {
      "cell_type": "code",
      "metadata": {
        "id": "wD4f3HU5eACz",
        "colab_type": "code",
        "outputId": "aaeb2708-31bc-4466-fb72-7d3770811714",
        "colab": {
          "base_uri": "https://localhost:8080/",
          "height": 34
        }
      },
      "source": [
        "Prob2= len(df_diseng[(df_diseng['ReactionTime']>0.9) & (df_diseng['TypeOfTrigger']=='automatic') & (df_diseng['Weather']=='clear')])/len(df_diseng[(df_diseng['TypeOfTrigger']=='automatic') & (df_diseng['Weather']=='clear')])\n",
        "print(\"The Probability of disengagement per mile on a cloudy day is {}\".format(round(Prob2,2)))"
      ],
      "execution_count": 0,
      "outputs": [
        {
          "output_type": "stream",
          "text": [
            "The Probability of disengagement per mile on a cloudy day is 0.28\n"
          ],
          "name": "stdout"
        }
      ]
    },
    {
      "cell_type": "markdown",
      "metadata": {
        "id": "8IkXDvUdeAC1",
        "colab_type": "text"
      },
      "source": [
        "<b>5. Probability on Accident per mile</b>"
      ]
    },
    {
      "cell_type": "markdown",
      "metadata": {
        "id": "8cjxytvWeAC1",
        "colab_type": "text"
      },
      "source": [
        "<b>Theorem of total probability would be <br>\n",
        "P(accident per mile)=P(Dm | Cloudy)*P(Cloudy) + P(Dm | clear)*P(clear)</b>"
      ]
    },
    {
      "cell_type": "code",
      "metadata": {
        "id": "d19ky-zJeAC2",
        "colab_type": "code",
        "outputId": "035e1ad2-ef5a-4aa3-9f40-6f2c439e2b49",
        "colab": {
          "base_uri": "https://localhost:8080/",
          "height": 34
        }
      },
      "source": [
        "Prob3 = Prob1*0.28+Prob2*0.72\n",
        "print(\"The Probability of Accident per mile on a cloudy day is {}\".format(round(Prob3,2)))"
      ],
      "execution_count": 0,
      "outputs": [
        {
          "output_type": "stream",
          "text": [
            "The Probability of Accident per mile on a cloudy day is 0.34\n"
          ],
          "name": "stdout"
        }
      ]
    },
    {
      "cell_type": "markdown",
      "metadata": {
        "id": "jIO-4P92eAC5",
        "colab_type": "text"
      },
      "source": [
        "<b>6. The probability of a human driver causing a car accident is 2x10-6 [4]. How do AVs compare to human drivers?<br>\n",
        "Justify your conclusion and explain its consequences </b>"
      ]
    },
    {
      "cell_type": "markdown",
      "metadata": {
        "id": "WRSeM9DaeAC6",
        "colab_type": "text"
      },
      "source": [
        "<b>The probability of human driver causing a car accident is 2*10^-4 while the probability of AV for the same comes to be 0.34. There is a bigger risk associated with AV's as they can't be trained with all the possible scenarios of accident that happens in the real life.\n",
        "\n",
        "On the other hand, the humans react to any known/unknown signs of danger and their sudden response would to avoid accidents and mitigate the impact\n",
        "\n",
        "Training the system with lesser data and of low variance can result in high probability of fatalities happening in the road. The system needs to be trained with different conditions like the weather, road and cities "
      ]
    },
    {
      "cell_type": "markdown",
      "metadata": {
        "id": "7kgHa1cpeAC8",
        "colab_type": "text"
      },
      "source": [
        "<b>7. KS Test</b>"
      ]
    },
    {
      "cell_type": "markdown",
      "metadata": {
        "id": "sSwb9w4ceAC-",
        "colab_type": "text"
      },
      "source": [
        "Initially, we need to formulate the hypothesis for this test\n",
        "H0: Both the samples (clear and cloudy) from the same distribution\n",
        "HA: Both the samples (clear and cloudy) doesn't from the same distribution                         "
      ]
    },
    {
      "cell_type": "code",
      "metadata": {
        "id": "korJlibweAC_",
        "colab_type": "code",
        "outputId": "038b4bb7-946d-4c9c-da61-f71f4a1e9b89",
        "colab": {
          "base_uri": "https://localhost:8080/",
          "height": 34
        }
      },
      "source": [
        "from scipy import stats\n",
        "\n",
        "Reaction_time_cloudy=df_diseng[(df_diseng['Weather']=='cloudy')]['ReactionTime']\n",
        "Reaction_time_clear=df_diseng[(df_diseng['Weather']=='clear')]['ReactionTime']\n",
        "\n",
        "stats.ks_2samp(Reaction_time_cloudy, Reaction_time_clear)\n"
      ],
      "execution_count": 0,
      "outputs": [
        {
          "output_type": "execute_result",
          "data": {
            "text/plain": [
              "Ks_2sampResult(statistic=0.05633178088267909, pvalue=0.6872561980283936)"
            ]
          },
          "metadata": {
            "tags": []
          },
          "execution_count": 102
        }
      ]
    },
    {
      "cell_type": "markdown",
      "metadata": {
        "id": "RYYQeDvieADB",
        "colab_type": "text"
      },
      "source": [
        "<b>\n",
        "The given significance level is 0.1 (alpha) From the ks test, we get the P value as 0.7\n",
        "\n",
        "Decision rule:\n",
        "If pvalue < alpha, then we reject the NULL hypothesis<br>\n",
        "else we fail to reject the NULL hypothesis or accept the alternate hypothesis<br>\n",
        "\n",
        "Here 0.7>0.1,so we fail to reject the NULL hypothesis i.e. both the samples come from the same distribution <br>\n",
        "\n",
        "We can conclude that the weather be it cloudy or clear doesn't have any impact on the disengagement reaction time.</b>"
      ]
    },
    {
      "cell_type": "markdown",
      "metadata": {
        "id": "I6Wtb_vREVR4",
        "colab_type": "text"
      },
      "source": [
        "<b>Task 3</b>"
      ]
    },
    {
      "cell_type": "markdown",
      "metadata": {
        "id": "1pzq-Ki-ENSq",
        "colab_type": "text"
      },
      "source": [
        "<b>1. Modify your pandas data frame to include a ‘Class’ column</b>"
      ]
    },
    {
      "cell_type": "code",
      "metadata": {
        "id": "Y2ApJBgHeADC",
        "colab_type": "code",
        "colab": {}
      },
      "source": [
        "df_diseng.loc[df_diseng['Cause'].isin ([\"Incorrect behavior prediction of others\",\n",
        "                                        \"Recklessly behaving agent\",\n",
        "                                       \"Unwanted Driver Discomfort\"]),'class'] = 'Controller'\n",
        "df_diseng.loc[df_diseng['Cause'].isin ([\"Adverse road surface conditions\",\n",
        "                                        \"Emergency Vehicle\",\n",
        "                                       \"Position Estimation Failure\",\n",
        "                                       \"Incorrect Traffic Light Detection\"]),'class'] = 'Perception System'\n",
        "\n",
        "df_diseng.loc[df_diseng['Cause'].isin ([\"System Tuning and Calibration\",\n",
        "                                        \"Hardware Fault\",\n",
        "                                       \"Software Froze\"]),'class'] = 'Computer System'\n",
        "                                       "
      ],
      "execution_count": 0,
      "outputs": []
    },
    {
      "cell_type": "markdown",
      "metadata": {
        "id": "1nRvXELZEhjw",
        "colab_type": "text"
      },
      "source": [
        "<b>Split the data randomly into training and testing (80-20 split). Use the fields ‘Location’, ‘Weather’, and ‘TypeOfTrigger’ as features and use ‘Class’ as assigned in the previous question as the label</b>"
      ]
    },
    {
      "cell_type": "code",
      "metadata": {
        "id": "TcNfVnr-EHW3",
        "colab_type": "code",
        "colab": {}
      },
      "source": [
        "from sklearn import preprocessing\n",
        "#creating labelEncoder\n",
        "le = preprocessing.LabelEncoder()\n",
        "# Converting string labels into numbers.\n",
        "df_diseng['Location_encoded']=le.fit_transform(df_diseng['Location'])\n",
        "df_diseng['Weather_encoded']=le.fit_transform(df_diseng['Weather'])\n",
        "df_diseng['TypeOfTrigger_encoded']=le.fit_transform(df_diseng['TypeOfTrigger'])\n",
        "df_diseng['class_encoded']=le.fit_transform(df_diseng['class'])\n"
      ],
      "execution_count": 0,
      "outputs": []
    },
    {
      "cell_type": "code",
      "metadata": {
        "id": "DCgES0283u4c",
        "colab_type": "code",
        "colab": {}
      },
      "source": [
        "from sklearn.model_selection import train_test_split\n",
        "X=df_diseng[['Location_encoded','Weather_encoded','TypeOfTrigger_encoded']]\n",
        "y=df_diseng[['class_encoded']]"
      ],
      "execution_count": 0,
      "outputs": []
    },
    {
      "cell_type": "code",
      "metadata": {
        "id": "DI8WZcxQEkyg",
        "colab_type": "code",
        "colab": {}
      },
      "source": [
        "X_train, X_test, y_train, y_test = train_test_split(X, y, test_size=0.20, random_state=101) \n"
      ],
      "execution_count": 0,
      "outputs": []
    },
    {
      "cell_type": "markdown",
      "metadata": {
        "id": "pBuyRrqY39QL",
        "colab_type": "text"
      },
      "source": [
        "<b>3. Using the training dataset, create a NB model to identify the cause of disengagement based on the features ‘Location’, ‘Weather’, and ‘TypeOfTrigger’. Show the conditional probability tables from the training dataset "
      ]
    },
    {
      "cell_type": "code",
      "metadata": {
        "id": "wI91JNPY37iP",
        "colab_type": "code",
        "outputId": "c90f89e9-4997-44cc-85dd-cd629cbd89af",
        "colab": {
          "base_uri": "https://localhost:8080/",
          "height": 71
        }
      },
      "source": [
        "#Import Gaussian Naive Bayes model\n",
        "from sklearn.naive_bayes import GaussianNB\n",
        "\n",
        "#Create a Gaussian Classifier\n",
        "gnb = GaussianNB()\n",
        "\n",
        "#Train the model using the training sets\n",
        "model=gnb.fit(X_train, y_train)\n",
        "\n",
        "##Making predictions based on the test set\n",
        "y_pred=model.predict(X_test)  "
      ],
      "execution_count": 0,
      "outputs": [
        {
          "output_type": "stream",
          "text": [
            "/usr/local/lib/python3.6/dist-packages/sklearn/naive_bayes.py:206: DataConversionWarning: A column-vector y was passed when a 1d array was expected. Please change the shape of y to (n_samples, ), for example using ravel().\n",
            "  y = column_or_1d(y, warn=True)\n"
          ],
          "name": "stderr"
        }
      ]
    },
    {
      "cell_type": "code",
      "metadata": {
        "id": "fcJERWyCDqoB",
        "colab_type": "code",
        "colab": {}
      },
      "source": [
        ""
      ],
      "execution_count": 0,
      "outputs": []
    },
    {
      "cell_type": "markdown",
      "metadata": {
        "id": "ukmZCPKRDvQl",
        "colab_type": "text"
      },
      "source": [
        "<b> 4.) Calculating the accuracy of the model using the confusion matrix and classification report </b>"
      ]
    },
    {
      "cell_type": "code",
      "metadata": {
        "id": "iIJDlR8D4TZq",
        "colab_type": "code",
        "outputId": "fdb724d5-260b-4f15-c28e-b80a01c58ee1",
        "colab": {
          "base_uri": "https://localhost:8080/",
          "height": 238
        }
      },
      "source": [
        "from sklearn.metrics import classification_report,confusion_matrix\n",
        "cm=confusion_matrix(y_test,y_pred)\n",
        "cr=classification_report(y_test,y_pred)\n",
        "print(cr)  ###classification report \n",
        "print(cm)  ###confusion matrix"
      ],
      "execution_count": 0,
      "outputs": [
        {
          "output_type": "stream",
          "text": [
            "              precision    recall  f1-score   support\n",
            "\n",
            "           0       0.98      0.68      0.80        62\n",
            "           1       0.67      0.79      0.73        67\n",
            "           2       0.71      0.78      0.74        76\n",
            "\n",
            "    accuracy                           0.75       205\n",
            "   macro avg       0.79      0.75      0.76       205\n",
            "weighted avg       0.78      0.75      0.75       205\n",
            "\n",
            "[[42  9 11]\n",
            " [ 1 53 13]\n",
            " [ 0 17 59]]\n"
          ],
          "name": "stdout"
        }
      ]
    },
    {
      "cell_type": "code",
      "metadata": {
        "id": "Ryrum7Xs4Ua4",
        "colab_type": "code",
        "outputId": "30113a5c-fd3c-4aef-f0e7-373e0a29ba43",
        "colab": {
          "base_uri": "https://localhost:8080/",
          "height": 34
        }
      },
      "source": [
        "accuracy =cm.diagonal().sum() / cm.sum()\n",
        "print(f\"accuracy of the model with the validation set approach came to be {round(accuracy,4) *100} %\")"
      ],
      "execution_count": 0,
      "outputs": [
        {
          "output_type": "stream",
          "text": [
            "accuracy of the model with the validation set approach came to be 75.12 %\n"
          ],
          "name": "stdout"
        }
      ]
    },
    {
      "cell_type": "markdown",
      "metadata": {
        "id": "hJrnrfwcMKfg",
        "colab_type": "text"
      },
      "source": [
        "<b> 5.) Performing cross validation to get a better estimate of the accuracy </b>"
      ]
    },
    {
      "cell_type": "code",
      "metadata": {
        "id": "ACvBLP5rNo4t",
        "colab_type": "code",
        "outputId": "3a2a3d57-3707-426b-d98b-1e11e613bad3",
        "colab": {
          "base_uri": "https://localhost:8080/",
          "height": 428
        }
      },
      "source": [
        "from sklearn.model_selection import KFold, cross_val_score\n",
        "k_fold =KFold(n_splits=5, shuffle=False, random_state=42)\n",
        "clf = GaussianNB()\n",
        "print(cross_val_score(clf, X, y, cv=k_fold, n_jobs=1))\n",
        "CV_accuracy=cross_val_score(clf, X, y, cv=k_fold, n_jobs=1)"
      ],
      "execution_count": 0,
      "outputs": [
        {
          "output_type": "stream",
          "text": [
            "[0.42439024 0.50731707 0.83902439 0.42439024 0.74019608]\n"
          ],
          "name": "stdout"
        },
        {
          "output_type": "stream",
          "text": [
            "/usr/local/lib/python3.6/dist-packages/sklearn/model_selection/_split.py:296: FutureWarning: Setting a random_state has no effect since shuffle is False. This will raise an error in 0.24. You should leave random_state to its default (None), or set shuffle=True.\n",
            "  FutureWarning\n",
            "/usr/local/lib/python3.6/dist-packages/sklearn/naive_bayes.py:206: DataConversionWarning: A column-vector y was passed when a 1d array was expected. Please change the shape of y to (n_samples, ), for example using ravel().\n",
            "  y = column_or_1d(y, warn=True)\n",
            "/usr/local/lib/python3.6/dist-packages/sklearn/naive_bayes.py:206: DataConversionWarning: A column-vector y was passed when a 1d array was expected. Please change the shape of y to (n_samples, ), for example using ravel().\n",
            "  y = column_or_1d(y, warn=True)\n",
            "/usr/local/lib/python3.6/dist-packages/sklearn/naive_bayes.py:206: DataConversionWarning: A column-vector y was passed when a 1d array was expected. Please change the shape of y to (n_samples, ), for example using ravel().\n",
            "  y = column_or_1d(y, warn=True)\n",
            "/usr/local/lib/python3.6/dist-packages/sklearn/naive_bayes.py:206: DataConversionWarning: A column-vector y was passed when a 1d array was expected. Please change the shape of y to (n_samples, ), for example using ravel().\n",
            "  y = column_or_1d(y, warn=True)\n",
            "/usr/local/lib/python3.6/dist-packages/sklearn/naive_bayes.py:206: DataConversionWarning: A column-vector y was passed when a 1d array was expected. Please change the shape of y to (n_samples, ), for example using ravel().\n",
            "  y = column_or_1d(y, warn=True)\n",
            "/usr/local/lib/python3.6/dist-packages/sklearn/naive_bayes.py:206: DataConversionWarning: A column-vector y was passed when a 1d array was expected. Please change the shape of y to (n_samples, ), for example using ravel().\n",
            "  y = column_or_1d(y, warn=True)\n",
            "/usr/local/lib/python3.6/dist-packages/sklearn/naive_bayes.py:206: DataConversionWarning: A column-vector y was passed when a 1d array was expected. Please change the shape of y to (n_samples, ), for example using ravel().\n",
            "  y = column_or_1d(y, warn=True)\n",
            "/usr/local/lib/python3.6/dist-packages/sklearn/naive_bayes.py:206: DataConversionWarning: A column-vector y was passed when a 1d array was expected. Please change the shape of y to (n_samples, ), for example using ravel().\n",
            "  y = column_or_1d(y, warn=True)\n",
            "/usr/local/lib/python3.6/dist-packages/sklearn/naive_bayes.py:206: DataConversionWarning: A column-vector y was passed when a 1d array was expected. Please change the shape of y to (n_samples, ), for example using ravel().\n",
            "  y = column_or_1d(y, warn=True)\n",
            "/usr/local/lib/python3.6/dist-packages/sklearn/naive_bayes.py:206: DataConversionWarning: A column-vector y was passed when a 1d array was expected. Please change the shape of y to (n_samples, ), for example using ravel().\n",
            "  y = column_or_1d(y, warn=True)\n"
          ],
          "name": "stderr"
        }
      ]
    },
    {
      "cell_type": "code",
      "metadata": {
        "id": "74OYPywvOPNv",
        "colab_type": "code",
        "outputId": "af1807e1-835f-4746-fe72-ca74ed45e829",
        "colab": {
          "base_uri": "https://localhost:8080/",
          "height": 34
        }
      },
      "source": [
        "from math import *\n",
        "CV_accuracy_average=np.mean(CV_accuracy)*100\n",
        "print(f'CV_accuracy_average : {CV_accuracy_average}')"
      ],
      "execution_count": 0,
      "outputs": [
        {
          "output_type": "stream",
          "text": [
            "CV_accuracy_average : 58.70636059301769\n"
          ],
          "name": "stdout"
        }
      ]
    },
    {
      "cell_type": "code",
      "metadata": {
        "id": "eEg6NFnqOShb",
        "colab_type": "code",
        "outputId": "4490ed6a-c2e5-4433-cde8-de2fb5a3b017",
        "colab": {
          "base_uri": "https://localhost:8080/",
          "height": 224
        }
      },
      "source": [
        "random_state=[None , 101 , 42 ,1 ,10 ]\n",
        "accuracy_list=[]\n",
        "def cross_validation(random_state,accuracy_list):\n",
        "    \"\"\"\n",
        "    Summary line : This function will do cross validation using 20% data as test set and 80% data as training set\n",
        "                   using different random seeds \n",
        "  \n",
        "    Parameters: \n",
        "    arg1 : random_state : A list containing different random state values\n",
        "    arg2 : accuracy_list : an empty list which will hold 5 different accuracies for all the models \n",
        "  \n",
        "    Returns: \n",
        "    average accuracy of all the models\n",
        "    \n",
        "    \"\"\"\n",
        "    \n",
        "    for num in random_state:\n",
        "        X_train, X_test, y_train, y_test = train_test_split(X, y, test_size=0.20, random_state=num) \n",
        "        from sklearn.naive_bayes import GaussianNB\n",
        "\n",
        "        #Create a Gaussian Classifier\n",
        "        gnb = GaussianNB()\n",
        "\n",
        "        #Train the model using the training sets\n",
        "        model=gnb.fit(X_train, y_train)\n",
        "        y_pred=model.predict(X_test)\n",
        "        from sklearn.metrics import confusion_matrix\n",
        "        cm=confusion_matrix(y_test,y_pred)\n",
        "        accuracy =cm.diagonal().sum() / cm.sum()\n",
        "        accuracy_list.append(accuracy)\n",
        "    return (np.mean(accuracy_list)*100)    \n",
        "\n",
        "cross_validation(random_state,accuracy_list)\n",
        "    \n",
        "    "
      ],
      "execution_count": 0,
      "outputs": [
        {
          "output_type": "stream",
          "text": [
            "/usr/local/lib/python3.6/dist-packages/sklearn/naive_bayes.py:206: DataConversionWarning: A column-vector y was passed when a 1d array was expected. Please change the shape of y to (n_samples, ), for example using ravel().\n",
            "  y = column_or_1d(y, warn=True)\n",
            "/usr/local/lib/python3.6/dist-packages/sklearn/naive_bayes.py:206: DataConversionWarning: A column-vector y was passed when a 1d array was expected. Please change the shape of y to (n_samples, ), for example using ravel().\n",
            "  y = column_or_1d(y, warn=True)\n",
            "/usr/local/lib/python3.6/dist-packages/sklearn/naive_bayes.py:206: DataConversionWarning: A column-vector y was passed when a 1d array was expected. Please change the shape of y to (n_samples, ), for example using ravel().\n",
            "  y = column_or_1d(y, warn=True)\n",
            "/usr/local/lib/python3.6/dist-packages/sklearn/naive_bayes.py:206: DataConversionWarning: A column-vector y was passed when a 1d array was expected. Please change the shape of y to (n_samples, ), for example using ravel().\n",
            "  y = column_or_1d(y, warn=True)\n",
            "/usr/local/lib/python3.6/dist-packages/sklearn/naive_bayes.py:206: DataConversionWarning: A column-vector y was passed when a 1d array was expected. Please change the shape of y to (n_samples, ), for example using ravel().\n",
            "  y = column_or_1d(y, warn=True)\n"
          ],
          "name": "stderr"
        },
        {
          "output_type": "execute_result",
          "data": {
            "text/plain": [
              "64.39024390243902"
            ]
          },
          "metadata": {
            "tags": []
          },
          "execution_count": 150
        }
      ]
    },
    {
      "cell_type": "markdown",
      "metadata": {
        "id": "9EURgGhfd36Q",
        "colab_type": "text"
      },
      "source": [
        " **6.) Is the NB model doing better than chance? Explain.**"
      ]
    },
    {
      "cell_type": "markdown",
      "metadata": {
        "id": "8Vs2GbYHpNFQ",
        "colab_type": "text"
      },
      "source": [
        "\n",
        "Yes, the NB model is performing better than chance. The model predictions were nearly <b>75 % </b> correct for the test data set when we used the <b> validation set approach </b>. We further validated this accuracy by performing k-fold cross validation approach (using Sklearn library and manually coding the k-fold CV). In both the cases the minimum average accuracy we achieved was nearly <b>58% (accuracy range: 58% - 64%).</b> By randomly guessing, we can have at max 50% correct predictions, which is lower than the accuracy achieved by the NB model. "
      ]
    },
    {
      "cell_type": "markdown",
      "metadata": {
        "id": "LCQjvR1FqHdd",
        "colab_type": "text"
      },
      "source": [
        "<b> 7.) What are the assumptions in NB in the context of this problem? Are the assumptions realistic? Explain. </b>"
      ]
    },
    {
      "cell_type": "markdown",
      "metadata": {
        "id": "ABlgbJX0qUp8",
        "colab_type": "text"
      },
      "source": [
        "**Assumption:**\n",
        "\n",
        "Naive Bayes assumes that the features are class conditionally independent (independent given/conditioning on the class) which may not always hold in a real-world problem. Here we have three classes: Perception System, Controller, and Computer System; which we assume to be independent. \n",
        "\n",
        "**For an AV to perform safely, it is important for all three classes to show congruity, and thus are inter-dependent.**\n",
        "For example, disengagement could result due to reckless behaving agent. However, the root cause could be software malfunction, which failed to process input from perception system (position estimation failure) and thus controller behaves in an unwanted manner.\n",
        "We believe that we could have achieved better accuracy had the assumptions been more realistic. \n"
      ]
    },
    {
      "cell_type": "markdown",
      "metadata": {
        "id": "l1cpY49dwrrG",
        "colab_type": "text"
      },
      "source": [
        "<b> 8) Based on your answer to part 7, comment on whether any improvements can be gained in classification accuracy. If yes, how? </b>"
      ]
    },
    {
      "cell_type": "markdown",
      "metadata": {
        "id": "EhVbeZNkw2pT",
        "colab_type": "text"
      },
      "source": [
        "Yes, there are dfferent approaches we can use to improve the accuracy of the model some of which are as follows : \n",
        "\n",
        "1.) As the assumption of the naive bayes may not be applicable in context of this problem , one way to improve the model accuracy is to use a different classfication process like <b> Linear Discriminant Analysis , Quadratic Discriminant Analysis , Multi class logistic regression. </b>\n",
        "\n",
        "2.) <b>Bayesian Networks</b> do not assume class independence and hence could have been a better choice for this problem and thus might have produced a higher accuracy.\n",
        "\n",
        "3.) <b> Ensemble models</b> which inloves combining multiple models to improve the accuracy using <b>bagging and boosting</b>. This ensembling can improve the predictive performance more than any single model.\n",
        "\n",
        "4.) Here we have a quite small dataset ,a general appraoch which can increase the accuracy is collecting more data as training a model on a more diverse dataset which has more variablity can result in a better machine learning model. "
      ]
    },
    {
      "cell_type": "code",
      "metadata": {
        "id": "ZsVubLVTw3K4",
        "colab_type": "code",
        "colab": {}
      },
      "source": [
        ""
      ],
      "execution_count": 0,
      "outputs": []
    }
  ]
}